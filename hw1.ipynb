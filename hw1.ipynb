{
 "cells": [
  {
   "cell_type": "code",
   "execution_count": 1,
   "id": "e117e9f8-0486-40ab-aff5-5c5c8293df14",
   "metadata": {},
   "outputs": [],
   "source": [
    "import pandas as pd\n",
    "import numpy as np"
   ]
  },
  {
   "cell_type": "code",
   "execution_count": 2,
   "id": "62666130-797a-40b2-b739-962e068e2225",
   "metadata": {},
   "outputs": [],
   "source": [
    "import pyarrow"
   ]
  },
  {
   "cell_type": "code",
   "execution_count": 3,
   "id": "f5e88f43-ab00-48d6-a34e-0cead097854d",
   "metadata": {},
   "outputs": [
    {
     "name": "stdout",
     "output_type": "stream",
     "text": [
      "   VendorID tpep_pickup_datetime tpep_dropoff_datetime  passenger_count  \\\n",
      "0         2  2023-01-01 00:32:10   2023-01-01 00:40:36              1.0   \n",
      "1         2  2023-01-01 00:55:08   2023-01-01 01:01:27              1.0   \n",
      "2         2  2023-01-01 00:25:04   2023-01-01 00:37:49              1.0   \n",
      "3         1  2023-01-01 00:03:48   2023-01-01 00:13:25              0.0   \n",
      "4         2  2023-01-01 00:10:29   2023-01-01 00:21:19              1.0   \n",
      "\n",
      "   trip_distance  RatecodeID store_and_fwd_flag  PULocationID  DOLocationID  \\\n",
      "0           0.97         1.0                  N           161           141   \n",
      "1           1.10         1.0                  N            43           237   \n",
      "2           2.51         1.0                  N            48           238   \n",
      "3           1.90         1.0                  N           138             7   \n",
      "4           1.43         1.0                  N           107            79   \n",
      "\n",
      "   payment_type  fare_amount  extra  mta_tax  tip_amount  tolls_amount  \\\n",
      "0             2          9.3   1.00      0.5        0.00           0.0   \n",
      "1             1          7.9   1.00      0.5        4.00           0.0   \n",
      "2             1         14.9   1.00      0.5       15.00           0.0   \n",
      "3             1         12.1   7.25      0.5        0.00           0.0   \n",
      "4             1         11.4   1.00      0.5        3.28           0.0   \n",
      "\n",
      "   improvement_surcharge  total_amount  congestion_surcharge  airport_fee  \n",
      "0                    1.0         14.30                   2.5         0.00  \n",
      "1                    1.0         16.90                   2.5         0.00  \n",
      "2                    1.0         34.90                   2.5         0.00  \n",
      "3                    1.0         20.85                   0.0         1.25  \n",
      "4                    1.0         19.68                   2.5         0.00  \n"
     ]
    }
   ],
   "source": [
    "file_path = 'yellow_tripdata_2023-01.parquet'\n",
    "\n",
    "df = pd.read_parquet(file_path)\n",
    "\n",
    "print(df.head())"
   ]
  },
  {
   "cell_type": "code",
   "execution_count": 4,
   "id": "4388b483-3f02-420a-808d-a2e47fd2c901",
   "metadata": {},
   "outputs": [
    {
     "name": "stdout",
     "output_type": "stream",
     "text": [
      "<class 'pandas.core.frame.DataFrame'>\n",
      "RangeIndex: 3066766 entries, 0 to 3066765\n",
      "Data columns (total 19 columns):\n",
      " #   Column                 Dtype         \n",
      "---  ------                 -----         \n",
      " 0   VendorID               int64         \n",
      " 1   tpep_pickup_datetime   datetime64[us]\n",
      " 2   tpep_dropoff_datetime  datetime64[us]\n",
      " 3   passenger_count        float64       \n",
      " 4   trip_distance          float64       \n",
      " 5   RatecodeID             float64       \n",
      " 6   store_and_fwd_flag     object        \n",
      " 7   PULocationID           int64         \n",
      " 8   DOLocationID           int64         \n",
      " 9   payment_type           int64         \n",
      " 10  fare_amount            float64       \n",
      " 11  extra                  float64       \n",
      " 12  mta_tax                float64       \n",
      " 13  tip_amount             float64       \n",
      " 14  tolls_amount           float64       \n",
      " 15  improvement_surcharge  float64       \n",
      " 16  total_amount           float64       \n",
      " 17  congestion_surcharge   float64       \n",
      " 18  airport_fee            float64       \n",
      "dtypes: datetime64[us](2), float64(12), int64(4), object(1)\n",
      "memory usage: 444.6+ MB\n",
      "None\n"
     ]
    }
   ],
   "source": [
    "print(df.info())"
   ]
  },
  {
   "cell_type": "code",
   "execution_count": 5,
   "id": "e5d00479-6474-4aff-95cb-a5ae0e95b89a",
   "metadata": {},
   "outputs": [
    {
     "name": "stdout",
     "output_type": "stream",
     "text": [
      "           VendorID        tpep_pickup_datetime       tpep_dropoff_datetime  \\\n",
      "count  3.066766e+06                     3066766                     3066766   \n",
      "mean   1.730215e+00  2023-01-17 00:22:26.288164  2023-01-17 00:38:06.427874   \n",
      "min    1.000000e+00         2008-12-31 23:01:42         2009-01-01 14:29:11   \n",
      "25%    1.000000e+00  2023-01-09 16:21:57.250000         2023-01-09 16:37:06   \n",
      "50%    2.000000e+00  2023-01-17 08:42:29.500000  2023-01-17 08:58:30.500000   \n",
      "75%    2.000000e+00         2023-01-24 16:26:27         2023-01-24 16:42:49   \n",
      "max    2.000000e+00         2023-02-01 00:56:53         2023-02-02 09:28:47   \n",
      "std    4.438480e-01                         NaN                         NaN   \n",
      "\n",
      "       passenger_count  trip_distance    RatecodeID  PULocationID  \\\n",
      "count     2.995023e+06   3.066766e+06  2.995023e+06  3.066766e+06   \n",
      "mean      1.362532e+00   3.847342e+00  1.497440e+00  1.663980e+02   \n",
      "min       0.000000e+00   0.000000e+00  1.000000e+00  1.000000e+00   \n",
      "25%       1.000000e+00   1.060000e+00  1.000000e+00  1.320000e+02   \n",
      "50%       1.000000e+00   1.800000e+00  1.000000e+00  1.620000e+02   \n",
      "75%       1.000000e+00   3.330000e+00  1.000000e+00  2.340000e+02   \n",
      "max       9.000000e+00   2.589281e+05  9.900000e+01  2.650000e+02   \n",
      "std       8.961200e-01   2.495838e+02  6.474767e+00  6.424413e+01   \n",
      "\n",
      "       DOLocationID  payment_type   fare_amount         extra       mta_tax  \\\n",
      "count  3.066766e+06  3.066766e+06  3.066766e+06  3.066766e+06  3.066766e+06   \n",
      "mean   1.643926e+02  1.194483e+00  1.836707e+01  1.537842e+00  4.882900e-01   \n",
      "min    1.000000e+00  0.000000e+00 -9.000000e+02 -7.500000e+00 -5.000000e-01   \n",
      "25%    1.140000e+02  1.000000e+00  8.600000e+00  0.000000e+00  5.000000e-01   \n",
      "50%    1.620000e+02  1.000000e+00  1.280000e+01  1.000000e+00  5.000000e-01   \n",
      "75%    2.340000e+02  1.000000e+00  2.050000e+01  2.500000e+00  5.000000e-01   \n",
      "max    2.650000e+02  4.000000e+00  1.160100e+03  1.250000e+01  5.316000e+01   \n",
      "std    6.994368e+01  5.294762e-01  1.780782e+01  1.789592e+00  1.034641e-01   \n",
      "\n",
      "         tip_amount  tolls_amount  improvement_surcharge  total_amount  \\\n",
      "count  3.066766e+06  3.066766e+06           3.066766e+06  3.066766e+06   \n",
      "mean   3.367941e+00  5.184907e-01           9.820847e-01  2.702038e+01   \n",
      "min   -9.622000e+01 -6.500000e+01          -1.000000e+00 -7.510000e+02   \n",
      "25%    1.000000e+00  0.000000e+00           1.000000e+00  1.540000e+01   \n",
      "50%    2.720000e+00  0.000000e+00           1.000000e+00  2.016000e+01   \n",
      "75%    4.200000e+00  0.000000e+00           1.000000e+00  2.870000e+01   \n",
      "max    3.808000e+02  1.969900e+02           1.000000e+00  1.169400e+03   \n",
      "std    3.826759e+00  2.017579e+00           1.833529e-01  2.216359e+01   \n",
      "\n",
      "       congestion_surcharge   airport_fee  \n",
      "count          2.995023e+06  2.995023e+06  \n",
      "mean           2.274231e+00  1.074086e-01  \n",
      "min           -2.500000e+00 -1.250000e+00  \n",
      "25%            2.500000e+00  0.000000e+00  \n",
      "50%            2.500000e+00  0.000000e+00  \n",
      "75%            2.500000e+00  0.000000e+00  \n",
      "max            2.500000e+00  1.250000e+00  \n",
      "std            7.718454e-01  3.556511e-01  \n"
     ]
    }
   ],
   "source": [
    "print(df.describe())"
   ]
  },
  {
   "cell_type": "code",
   "execution_count": 8,
   "id": "e1e17cf4-9993-45ba-94ee-73d1b5b782ad",
   "metadata": {},
   "outputs": [
    {
     "data": {
      "text/plain": [
       "19"
      ]
     },
     "execution_count": 8,
     "metadata": {},
     "output_type": "execute_result"
    }
   ],
   "source": [
    "#Q1\n",
    "\n",
    "num_columns = df.shape[1]\n",
    "num_columns"
   ]
  },
  {
   "cell_type": "code",
   "execution_count": 15,
   "id": "46ddddd5-c4ca-411e-9c24-8df610db8949",
   "metadata": {},
   "outputs": [],
   "source": [
    "df['tpep_pickup_datetime'] = pd.to_datetime(df['tpep_pickup_datetime'])\n",
    "df['tpep_dropoff_datetime'] = pd.to_datetime(df['tpep_dropoff_datetime'])"
   ]
  },
  {
   "cell_type": "code",
   "execution_count": 23,
   "id": "26b3a3f9-e54a-4e3a-a8a7-17c2215d2d6b",
   "metadata": {},
   "outputs": [],
   "source": [
    "df['duration_minutes'] = (df['tpep_dropoff_datetime'] - df['tpep_pickup_datetime']).dt.total_seconds() / 60"
   ]
  },
  {
   "cell_type": "code",
   "execution_count": 24,
   "id": "35fca10f-b9ca-4d9c-b81d-424ac04b7f7f",
   "metadata": {},
   "outputs": [],
   "source": [
    "january_trips = df[df['tpep_pickup_datetime'].dt.month == 1]\n",
    "\n",
    "std_duration = january_trips['duration_minutes'].std()"
   ]
  },
  {
   "cell_type": "code",
   "execution_count": 25,
   "id": "6c2a41d4-6f24-42dd-a0e5-dda62194e792",
   "metadata": {},
   "outputs": [
    {
     "data": {
      "text/plain": [
       "42.585641764259044"
      ]
     },
     "execution_count": 25,
     "metadata": {},
     "output_type": "execute_result"
    }
   ],
   "source": [
    "#Q2\n",
    "\n",
    "std_duration"
   ]
  },
  {
   "cell_type": "code",
   "execution_count": 26,
   "id": "bd37d16f-4389-4501-bbfc-ac809153d756",
   "metadata": {},
   "outputs": [],
   "source": [
    "# Filter records to keep only those with duration between 1 and 60 minutes\n",
    "filtered_trips = df[(df['duration_minutes'] >= 1) & (df['duration_minutes'] <= 60)]\n",
    "\n",
    "# Calculate the fraction of records left after dropping the outliers\n",
    "fraction_remaining = len(filtered_trips) / len(df)"
   ]
  },
  {
   "cell_type": "code",
   "execution_count": 28,
   "id": "4e595e2a-66c4-4de9-8c74-19c3bf02fb98",
   "metadata": {},
   "outputs": [
    {
     "data": {
      "text/plain": [
       "0.9812202822125979"
      ]
     },
     "execution_count": 28,
     "metadata": {},
     "output_type": "execute_result"
    }
   ],
   "source": [
    "#Q3\n",
    "\n",
    "fraction_remaining"
   ]
  },
  {
   "cell_type": "code",
   "execution_count": 31,
   "id": "2a159771-3395-4926-a1c4-9705188042dd",
   "metadata": {},
   "outputs": [],
   "source": [
    "from sklearn.feature_extraction import DictVectorizer"
   ]
  },
  {
   "cell_type": "code",
   "execution_count": 33,
   "id": "6eed9951-6905-4be9-b113-d6221b682e27",
   "metadata": {},
   "outputs": [],
   "source": [
    "subset_df = df[['PULocationID', 'DOLocationID']]"
   ]
  },
  {
   "cell_type": "code",
   "execution_count": 37,
   "id": "95ccca28-2aef-4537-9b63-fbbe57063a90",
   "metadata": {},
   "outputs": [
    {
     "name": "stdout",
     "output_type": "stream",
     "text": [
      "The dimensionality of the matrix is: 518 columns\n"
     ]
    }
   ],
   "source": [
    "#Q4\n",
    "\n",
    "subset_df = df[['PULocationID', 'DOLocationID']].copy()\n",
    "\n",
    "subset_df.loc[:, 'PULocationID'] = subset_df['PULocationID'].astype(str)\n",
    "subset_df.loc[:, 'DOLocationID'] = subset_df['DOLocationID'].astype(str)\n",
    "\n",
    "data_dicts = subset_df.to_dict(orient='records')\n",
    "\n",
    "vec = DictVectorizer(sparse=False)\n",
    "feature_matrix = vec.fit_transform(data_dicts)\n",
    "\n",
    "feature_names = vec.get_feature_names_out()\n",
    "\n",
    "num_columns = feature_matrix.shape[1]\n",
    "\n",
    "print(f\"The dimensionality of the matrix is: {num_columns} columns\")"
   ]
  },
  {
   "cell_type": "code",
   "execution_count": 38,
   "id": "bba1a3a7-8593-4e5f-b7c5-7b96ce8dcf19",
   "metadata": {},
   "outputs": [],
   "source": [
    "from sklearn.linear_model import LinearRegression\n",
    "from sklearn.metrics import mean_squared_error"
   ]
  },
  {
   "cell_type": "code",
   "execution_count": null,
   "id": "069e6c35-0329-40a4-b016-4ebbedf9039b",
   "metadata": {},
   "outputs": [],
   "source": [
    "y = df['duration_minutes']\n",
    "\n",
    "# Train a linear regression model\n",
    "model = LinearRegression()\n",
    "model.fit(feature_matrix, y)\n",
    "\n",
    "# Make predictions on the training data\n",
    "predictions = model.predict(feature_matrix)\n",
    "\n",
    "# Calculate the RMSE\n",
    "rmse = np.sqrt(mean_squared_error(y, predictions))"
   ]
  },
  {
   "cell_type": "code",
   "execution_count": null,
   "id": "5d326dd9-822a-46b4-b0fa-1877f2b3c9b9",
   "metadata": {},
   "outputs": [],
   "source": [
    "#6\n",
    "\n",
    "file_path = 'yellow_tripdata_2023-02.parquet'\n",
    "\n",
    "df_feb = pd.read_parquet(file_path)\n",
    "\n",
    "df_feb['duration_minutes'] = (df_feb['tpep_dropoff_datetime'] - df_feb['tpep_pickup_datetime']).dt.total_seconds() / 60\n",
    "\n",
    "subset_df_feb = df_feb[['PULocationID', 'DOLocationID']]\n",
    "\n",
    "# Convert location IDs to strings using .loc to avoid the SettingWithCopyWarning\n",
    "subset_df_feb.loc[:, 'PULocationID'] = subset_df_feb['PULocationID'].astype(str)\n",
    "subset_df_feb.loc[:, 'DOLocationID'] = subset_df_feb['DOLocationID'].astype(str)\n",
    "\n",
    "# Convert DataFrame to a list of dictionaries\n",
    "val_dicts = subset_df_feb.to_dict(orient='records')\n",
    "\n",
    "# Transform the validation data using the same vectorizer\n",
    "X_val = vec.transform(val_dicts)\n",
    "\n",
    "# Prepare the target variable for validation\n",
    "y_val = df_feb['duration_minutes']\n",
    "\n",
    "# Make predictions on the validation data\n",
    "predictions = model.predict(X_val)\n",
    "\n",
    "# Calculate the RMSE\n",
    "rmse = np.sqrt(mean_squared_error(y_val, predictions))"
   ]
  }
 ],
 "metadata": {
  "kernelspec": {
   "display_name": "Python 3 (ipykernel)",
   "language": "python",
   "name": "python3"
  },
  "language_info": {
   "codemirror_mode": {
    "name": "ipython",
    "version": 3
   },
   "file_extension": ".py",
   "mimetype": "text/x-python",
   "name": "python",
   "nbconvert_exporter": "python",
   "pygments_lexer": "ipython3",
   "version": "3.11.7"
  }
 },
 "nbformat": 4,
 "nbformat_minor": 5
}
